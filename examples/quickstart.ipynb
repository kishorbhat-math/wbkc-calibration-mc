{
    "nbformat":  4,
    "metadata":  {
                     "kernelspec":  {
                                        "language":  "python",
                                        "display_name":  "Python 3",
                                        "name":  "python3"
                                    },
                     "language_info":  {
                                           "version":  "3.13",
                                           "name":  "python"
                                       }
                 },
    "nbformat_minor":  5,
    "cells":  [
                  {
                      "source":  [
                                     "# WBKC Quickstart",
                                     "",
                                     "Minimal demonstration of \run_calibration()."
                                 ],
                      "cell_type":  "markdown",
                      "metadata":  {

                                   }
                  },
                  {
                      "outputs":  [

                                  ],
                      "source":  [
                                     "from wbkc import run_calibration",
                                     "run_calibration()"
                                 ],
                      "cell_type":  "code",
                      "execution_count":  null,
                      "metadata":  {

                                   }
                  }
              ]
}
