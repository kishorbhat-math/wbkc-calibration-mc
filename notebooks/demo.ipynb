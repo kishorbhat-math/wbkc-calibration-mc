﻿# Usage

## Install
```powershell
# from repo root on Windows
python -m venv .venv
.\.venv\Scripts\Activate.ps1
python -m pip install --upgrade pip
pip install -e .
pip install -r requirements.txt  # if present
conda env create -f environment.yml
conda activate wbkc-calibration-mc
pip install -e .
.\scripts\run_tests.ps1
.\scripts\run_app.ps1
$repoSlug = "kishorbhat-math/wbkc-calibration-mc"
$badgeCI = "
"
$badgeMIT = "
"
$badgePy = "
"

if (Test-Path .\README.md) {
$readmeRaw = Get-Content .\README.md -Raw
} else {
$readmeRaw = ""
}

Prepend header+badges if CI bad
if ($readmeRaw -notmatch "actions/workflows/ci.yml/badge.svg") {
$banner = "# WBKC Calibration Monte Carlornrn$badgeCI $badgeMIT $badgePyrnrn"
$readmeRaw = $banner + $readmeRaw
}
if ($readmeRaw -notmatch "## Quickstart 
𝑊
𝑖
𝑛
𝑑
𝑜
𝑤
𝑠
Windows") {
$qs = @"
.\scripts\run_tests.ps1
.\scripts\run_app.ps1
@
$readmeRaw = $readmeRaw + "rn" + $qs
}

Set-Content .\README.md $readmeRaw -Encoding UTF8
@'
{
"cells": [
{ "cell_type": "markdown", "metadata": {}, "source": ["# WBKC Calibration MC — Demo (synthetic data)\n","Quick tour using the included synthetic CSVs."] },
{ "cell_type": "code", "metadata": {}, "execution_count": null, "outputs": [], "source": [
"import pandas as pd, numpy as np",
"from pathlib import Path",
"p = Path('docs/examples')",
"spect = pd.read_csv(p/'spectrum_synth.csv') if (p/'spectrum_synth.csv').exists() else None",
"preg = pd.read_csv(p/'pregnancy_synth.csv') if (p/'pregnancy_synth.csv').exists() else None",
"phan = pd.read_csv(p/'phantoms_synth.csv') if (p/'phantoms_synth.csv').exists() else None",
"spect.head() if spect is not None else 'spectrum_synth.csv not found'"
] },
{ "cell_type": "markdown", "metadata": {}, "source": [
"If you want to run Monte Carlo in-notebook:\n",
"python\\n", "from wbkc.model import simulate\\n", "# E, Y = spect['energy_keV'].to_numpy(), spect['counts'].to_numpy()\\n", "# simulate(E, Y, live_time_s=900, calib=dict(cps_per_TBK=100.0), n_mc=2000)\\n", ""
] }
],
"metadata": {
"kernelspec": { "display_name": "Python 3", "language": "python", "name": "python3" },
"language_info": { "name": "python", "version": "3.11" }
},
"nbformat": 4, "nbformat_minor": 5
}
